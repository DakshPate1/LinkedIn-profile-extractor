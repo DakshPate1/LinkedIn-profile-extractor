{
 "cells": [
  {
   "cell_type": "code",
   "execution_count": 14,
   "id": "cc03d507-290c-48f5-a1cf-dbb7697b86c7",
   "metadata": {},
   "outputs": [],
   "source": [
    "import pandas as pd\n",
    "profiledata = pd.read_csv('profiledata.csv')"
   ]
  },
  {
   "cell_type": "code",
   "execution_count": 15,
   "id": "556b357d-8fdf-4923-9761-a0ca8000144b",
   "metadata": {},
   "outputs": [],
   "source": [
    "#preprocessing\n",
    "import re\n",
    "import nltk\n",
    "from nltk.tokenize import word_tokenize\n",
    "\n",
    "def preprocess_text(text):\n",
    "    text = text.lower()\n",
    "    text = re.sub(r'[^a-z\\s]', '', text)  \n",
    "    tokens = word_tokenize(text)\n",
    "    return tokens\n",
    "profiledata['processed_about'] = profiledata['About'].apply(preprocess_text)\n"
   ]
  },
  {
   "cell_type": "code",
   "execution_count": 16,
   "id": "967087c7-ae16-4990-8bad-29dbd2021a5a",
   "metadata": {},
   "outputs": [],
   "source": [
    "from collections import Counter\n",
    "\n",
    "all_words = [word for item in profiledata['processed_about'] for word in item]\n",
    "word_freq = Counter(all_words)\n"
   ]
  },
  {
   "cell_type": "code",
   "execution_count": 17,
   "id": "f72c1d80-a283-4d91-8652-c4aab5642900",
   "metadata": {},
   "outputs": [
    {
     "name": "stderr",
     "output_type": "stream",
     "text": [
      "[nltk_data] Downloading package stopwords to\n",
      "[nltk_data]     C:\\Users\\hp\\AppData\\Roaming\\nltk_data...\n",
      "[nltk_data]   Package stopwords is already up-to-date!\n"
     ]
    },
    {
     "data": {
      "application/vnd.plotly.v1+json": {
       "config": {
        "plotlyServerURL": "https://plot.ly"
       },
       "data": [
        {
         "alignmentgroup": "True",
         "hovertemplate": "Words=%{x}<br>Word Frequency=%{y}<extra></extra>",
         "legendgroup": "",
         "marker": {
          "color": "#636efa",
          "pattern": {
           "shape": ""
          }
         },
         "name": "",
         "offsetgroup": "",
         "orientation": "v",
         "showlegend": false,
         "textposition": "auto",
         "type": "bar",
         "x": [
          "hello",
          "im",
          "daksh",
          "patel",
          "resultsoriented",
          "business",
          "development",
          "manager",
          "itsoftware",
          "service",
          "industry",
          "expertise",
          "driving",
          "client",
          "acquisition",
          "market",
          "analysis",
          "consistently",
          "surpass",
          "targets",
          "strength",
          "lies",
          "cultivating",
          "robust",
          "relationships",
          "thriving",
          "collaborative",
          "tech",
          "environments",
          "lets",
          "connect",
          "innovative",
          "solutions",
          "growth",
          "results",
          "passionate",
          "leveraging",
          "data",
          "drive",
          "insights",
          "create",
          "meaningful",
          "experienced",
          "diverse",
          "roles",
          "ranging",
          "content",
          "sales",
          "team",
          "management",
          "software",
          "skilled",
          "applying",
          "statistical",
          "techniques",
          "machine",
          "learning",
          "algorithms",
          "extract",
          "valuable",
          "complex",
          "datasets",
          "excited",
          "exponential",
          "field",
          "transformative",
          "potential",
          "ai",
          "skills",
          "predictive",
          "analytics",
          "natural",
          "language",
          "processing",
          "nlp",
          "deep",
          "computer",
          "vision",
          "visualization",
          "cloud",
          "computing",
          "statistics",
          "probability",
          "wrangling",
          "advanced",
          "mathematics",
          "modeling",
          "languages",
          "python",
          "sql",
          "c",
          "libraries",
          "pandas",
          "numpy",
          "scikitlearn",
          "tensorflow",
          "matplotlib",
          "ggplot",
          "seaborn",
          "databases",
          "google",
          "bigquery",
          "tools",
          "jupyterlab",
          "pycharm",
          "microsoft",
          "clarity",
          "tableau",
          "creating",
          "mindful",
          "intuitive",
          "humancentered",
          "experiences",
          "make",
          "life",
          "simple",
          "easy",
          "humans",
          "director",
          "demonstrated",
          "history",
          "working",
          "machinery",
          "engineering",
          "strategy",
          "general",
          "developer",
          "delivering",
          "various",
          "java",
          "frameworks",
          "javascript",
          "structure",
          "versatile",
          "years",
          "experience",
          "designing",
          "developing",
          "managing",
          "applications",
          "work",
          "established",
          "developers",
          "interact",
          "project",
          "managers",
          "designers",
          "helped",
          "debug",
          "resolve",
          "logical",
          "issues",
          "front",
          "end",
          "back",
          "application",
          "guide",
          "toward",
          "desired",
          "output",
          "given",
          "problem",
          "statement",
          "making",
          "code",
          "optimize",
          "analytical",
          "communication",
          "interpersonal",
          "strong",
          "contributor",
          "passion",
          "produce",
          "quality",
          "engineer",
          "merge",
          "science",
          "productive",
          "scalable",
          "delighted",
          "professionals",
          "share",
          "interest",
          "fascinating",
          "world",
          "dynamic",
          "stock",
          "marketi",
          "driven",
          "enthusiast",
          "keen",
          "focus",
          "financial",
          "marketsi",
          "particularly",
          "interested",
          "uncover",
          "patterns",
          "trends",
          "enabling",
          "informed",
          "investment",
          "decisions",
          "addition",
          "technical",
          "possess",
          "understanding",
          "landscape",
          "interplay",
          "economic",
          "factors",
          "dynamics"
         ],
         "xaxis": "x",
         "y": [
          1,
          1,
          1,
          1,
          1,
          7,
          4,
          1,
          1,
          1,
          3,
          1,
          1,
          2,
          1,
          3,
          3,
          1,
          1,
          1,
          1,
          1,
          1,
          1,
          1,
          1,
          1,
          1,
          1,
          1,
          2,
          1,
          3,
          2,
          4,
          2,
          2,
          12,
          1,
          2,
          1,
          1,
          4,
          1,
          1,
          1,
          1,
          1,
          3,
          2,
          3,
          3,
          1,
          2,
          2,
          2,
          3,
          2,
          1,
          1,
          2,
          1,
          1,
          1,
          2,
          1,
          1,
          1,
          3,
          1,
          3,
          1,
          1,
          1,
          1,
          2,
          1,
          2,
          1,
          1,
          1,
          1,
          1,
          1,
          1,
          1,
          1,
          1,
          1,
          1,
          1,
          1,
          1,
          1,
          1,
          1,
          1,
          1,
          1,
          1,
          2,
          1,
          1,
          1,
          1,
          1,
          1,
          1,
          1,
          1,
          1,
          1,
          1,
          2,
          1,
          1,
          1,
          1,
          1,
          2,
          2,
          1,
          1,
          1,
          1,
          1,
          2,
          1,
          1,
          1,
          2,
          2,
          1,
          1,
          1,
          1,
          1,
          2,
          1,
          1,
          2,
          1,
          1,
          1,
          1,
          1,
          1,
          1,
          1,
          1,
          1,
          1,
          1,
          2,
          1,
          1,
          1,
          1,
          1,
          1,
          1,
          1,
          1,
          1,
          1,
          1,
          1,
          1,
          1,
          1,
          1,
          1,
          1,
          1,
          1,
          1,
          4,
          1,
          1,
          1,
          1,
          1,
          1,
          1,
          1,
          1,
          2,
          1,
          1,
          1,
          1,
          1,
          2,
          1,
          1,
          1,
          1,
          1,
          1,
          1,
          1,
          1,
          1,
          1,
          1,
          1,
          1,
          1,
          1,
          1,
          1,
          1
         ],
         "yaxis": "y"
        }
       ],
       "layout": {
        "autosize": true,
        "barmode": "relative",
        "legend": {
         "tracegroupgap": 0
        },
        "template": {
         "data": {
          "bar": [
           {
            "error_x": {
             "color": "#2a3f5f"
            },
            "error_y": {
             "color": "#2a3f5f"
            },
            "marker": {
             "line": {
              "color": "#E5ECF6",
              "width": 0.5
             },
             "pattern": {
              "fillmode": "overlay",
              "size": 10,
              "solidity": 0.2
             }
            },
            "type": "bar"
           }
          ],
          "barpolar": [
           {
            "marker": {
             "line": {
              "color": "#E5ECF6",
              "width": 0.5
             },
             "pattern": {
              "fillmode": "overlay",
              "size": 10,
              "solidity": 0.2
             }
            },
            "type": "barpolar"
           }
          ],
          "carpet": [
           {
            "aaxis": {
             "endlinecolor": "#2a3f5f",
             "gridcolor": "white",
             "linecolor": "white",
             "minorgridcolor": "white",
             "startlinecolor": "#2a3f5f"
            },
            "baxis": {
             "endlinecolor": "#2a3f5f",
             "gridcolor": "white",
             "linecolor": "white",
             "minorgridcolor": "white",
             "startlinecolor": "#2a3f5f"
            },
            "type": "carpet"
           }
          ],
          "choropleth": [
           {
            "colorbar": {
             "outlinewidth": 0,
             "ticks": ""
            },
            "type": "choropleth"
           }
          ],
          "contour": [
           {
            "colorbar": {
             "outlinewidth": 0,
             "ticks": ""
            },
            "colorscale": [
             [
              0,
              "#0d0887"
             ],
             [
              0.1111111111111111,
              "#46039f"
             ],
             [
              0.2222222222222222,
              "#7201a8"
             ],
             [
              0.3333333333333333,
              "#9c179e"
             ],
             [
              0.4444444444444444,
              "#bd3786"
             ],
             [
              0.5555555555555556,
              "#d8576b"
             ],
             [
              0.6666666666666666,
              "#ed7953"
             ],
             [
              0.7777777777777778,
              "#fb9f3a"
             ],
             [
              0.8888888888888888,
              "#fdca26"
             ],
             [
              1,
              "#f0f921"
             ]
            ],
            "type": "contour"
           }
          ],
          "contourcarpet": [
           {
            "colorbar": {
             "outlinewidth": 0,
             "ticks": ""
            },
            "type": "contourcarpet"
           }
          ],
          "heatmap": [
           {
            "colorbar": {
             "outlinewidth": 0,
             "ticks": ""
            },
            "colorscale": [
             [
              0,
              "#0d0887"
             ],
             [
              0.1111111111111111,
              "#46039f"
             ],
             [
              0.2222222222222222,
              "#7201a8"
             ],
             [
              0.3333333333333333,
              "#9c179e"
             ],
             [
              0.4444444444444444,
              "#bd3786"
             ],
             [
              0.5555555555555556,
              "#d8576b"
             ],
             [
              0.6666666666666666,
              "#ed7953"
             ],
             [
              0.7777777777777778,
              "#fb9f3a"
             ],
             [
              0.8888888888888888,
              "#fdca26"
             ],
             [
              1,
              "#f0f921"
             ]
            ],
            "type": "heatmap"
           }
          ],
          "heatmapgl": [
           {
            "colorbar": {
             "outlinewidth": 0,
             "ticks": ""
            },
            "colorscale": [
             [
              0,
              "#0d0887"
             ],
             [
              0.1111111111111111,
              "#46039f"
             ],
             [
              0.2222222222222222,
              "#7201a8"
             ],
             [
              0.3333333333333333,
              "#9c179e"
             ],
             [
              0.4444444444444444,
              "#bd3786"
             ],
             [
              0.5555555555555556,
              "#d8576b"
             ],
             [
              0.6666666666666666,
              "#ed7953"
             ],
             [
              0.7777777777777778,
              "#fb9f3a"
             ],
             [
              0.8888888888888888,
              "#fdca26"
             ],
             [
              1,
              "#f0f921"
             ]
            ],
            "type": "heatmapgl"
           }
          ],
          "histogram": [
           {
            "marker": {
             "pattern": {
              "fillmode": "overlay",
              "size": 10,
              "solidity": 0.2
             }
            },
            "type": "histogram"
           }
          ],
          "histogram2d": [
           {
            "colorbar": {
             "outlinewidth": 0,
             "ticks": ""
            },
            "colorscale": [
             [
              0,
              "#0d0887"
             ],
             [
              0.1111111111111111,
              "#46039f"
             ],
             [
              0.2222222222222222,
              "#7201a8"
             ],
             [
              0.3333333333333333,
              "#9c179e"
             ],
             [
              0.4444444444444444,
              "#bd3786"
             ],
             [
              0.5555555555555556,
              "#d8576b"
             ],
             [
              0.6666666666666666,
              "#ed7953"
             ],
             [
              0.7777777777777778,
              "#fb9f3a"
             ],
             [
              0.8888888888888888,
              "#fdca26"
             ],
             [
              1,
              "#f0f921"
             ]
            ],
            "type": "histogram2d"
           }
          ],
          "histogram2dcontour": [
           {
            "colorbar": {
             "outlinewidth": 0,
             "ticks": ""
            },
            "colorscale": [
             [
              0,
              "#0d0887"
             ],
             [
              0.1111111111111111,
              "#46039f"
             ],
             [
              0.2222222222222222,
              "#7201a8"
             ],
             [
              0.3333333333333333,
              "#9c179e"
             ],
             [
              0.4444444444444444,
              "#bd3786"
             ],
             [
              0.5555555555555556,
              "#d8576b"
             ],
             [
              0.6666666666666666,
              "#ed7953"
             ],
             [
              0.7777777777777778,
              "#fb9f3a"
             ],
             [
              0.8888888888888888,
              "#fdca26"
             ],
             [
              1,
              "#f0f921"
             ]
            ],
            "type": "histogram2dcontour"
           }
          ],
          "mesh3d": [
           {
            "colorbar": {
             "outlinewidth": 0,
             "ticks": ""
            },
            "type": "mesh3d"
           }
          ],
          "parcoords": [
           {
            "line": {
             "colorbar": {
              "outlinewidth": 0,
              "ticks": ""
             }
            },
            "type": "parcoords"
           }
          ],
          "pie": [
           {
            "automargin": true,
            "type": "pie"
           }
          ],
          "scatter": [
           {
            "fillpattern": {
             "fillmode": "overlay",
             "size": 10,
             "solidity": 0.2
            },
            "type": "scatter"
           }
          ],
          "scatter3d": [
           {
            "line": {
             "colorbar": {
              "outlinewidth": 0,
              "ticks": ""
             }
            },
            "marker": {
             "colorbar": {
              "outlinewidth": 0,
              "ticks": ""
             }
            },
            "type": "scatter3d"
           }
          ],
          "scattercarpet": [
           {
            "marker": {
             "colorbar": {
              "outlinewidth": 0,
              "ticks": ""
             }
            },
            "type": "scattercarpet"
           }
          ],
          "scattergeo": [
           {
            "marker": {
             "colorbar": {
              "outlinewidth": 0,
              "ticks": ""
             }
            },
            "type": "scattergeo"
           }
          ],
          "scattergl": [
           {
            "marker": {
             "colorbar": {
              "outlinewidth": 0,
              "ticks": ""
             }
            },
            "type": "scattergl"
           }
          ],
          "scattermapbox": [
           {
            "marker": {
             "colorbar": {
              "outlinewidth": 0,
              "ticks": ""
             }
            },
            "type": "scattermapbox"
           }
          ],
          "scatterpolar": [
           {
            "marker": {
             "colorbar": {
              "outlinewidth": 0,
              "ticks": ""
             }
            },
            "type": "scatterpolar"
           }
          ],
          "scatterpolargl": [
           {
            "marker": {
             "colorbar": {
              "outlinewidth": 0,
              "ticks": ""
             }
            },
            "type": "scatterpolargl"
           }
          ],
          "scatterternary": [
           {
            "marker": {
             "colorbar": {
              "outlinewidth": 0,
              "ticks": ""
             }
            },
            "type": "scatterternary"
           }
          ],
          "surface": [
           {
            "colorbar": {
             "outlinewidth": 0,
             "ticks": ""
            },
            "colorscale": [
             [
              0,
              "#0d0887"
             ],
             [
              0.1111111111111111,
              "#46039f"
             ],
             [
              0.2222222222222222,
              "#7201a8"
             ],
             [
              0.3333333333333333,
              "#9c179e"
             ],
             [
              0.4444444444444444,
              "#bd3786"
             ],
             [
              0.5555555555555556,
              "#d8576b"
             ],
             [
              0.6666666666666666,
              "#ed7953"
             ],
             [
              0.7777777777777778,
              "#fb9f3a"
             ],
             [
              0.8888888888888888,
              "#fdca26"
             ],
             [
              1,
              "#f0f921"
             ]
            ],
            "type": "surface"
           }
          ],
          "table": [
           {
            "cells": {
             "fill": {
              "color": "#EBF0F8"
             },
             "line": {
              "color": "white"
             }
            },
            "header": {
             "fill": {
              "color": "#C8D4E3"
             },
             "line": {
              "color": "white"
             }
            },
            "type": "table"
           }
          ]
         },
         "layout": {
          "annotationdefaults": {
           "arrowcolor": "#2a3f5f",
           "arrowhead": 0,
           "arrowwidth": 1
          },
          "autotypenumbers": "strict",
          "coloraxis": {
           "colorbar": {
            "outlinewidth": 0,
            "ticks": ""
           }
          },
          "colorscale": {
           "diverging": [
            [
             0,
             "#8e0152"
            ],
            [
             0.1,
             "#c51b7d"
            ],
            [
             0.2,
             "#de77ae"
            ],
            [
             0.3,
             "#f1b6da"
            ],
            [
             0.4,
             "#fde0ef"
            ],
            [
             0.5,
             "#f7f7f7"
            ],
            [
             0.6,
             "#e6f5d0"
            ],
            [
             0.7,
             "#b8e186"
            ],
            [
             0.8,
             "#7fbc41"
            ],
            [
             0.9,
             "#4d9221"
            ],
            [
             1,
             "#276419"
            ]
           ],
           "sequential": [
            [
             0,
             "#0d0887"
            ],
            [
             0.1111111111111111,
             "#46039f"
            ],
            [
             0.2222222222222222,
             "#7201a8"
            ],
            [
             0.3333333333333333,
             "#9c179e"
            ],
            [
             0.4444444444444444,
             "#bd3786"
            ],
            [
             0.5555555555555556,
             "#d8576b"
            ],
            [
             0.6666666666666666,
             "#ed7953"
            ],
            [
             0.7777777777777778,
             "#fb9f3a"
            ],
            [
             0.8888888888888888,
             "#fdca26"
            ],
            [
             1,
             "#f0f921"
            ]
           ],
           "sequentialminus": [
            [
             0,
             "#0d0887"
            ],
            [
             0.1111111111111111,
             "#46039f"
            ],
            [
             0.2222222222222222,
             "#7201a8"
            ],
            [
             0.3333333333333333,
             "#9c179e"
            ],
            [
             0.4444444444444444,
             "#bd3786"
            ],
            [
             0.5555555555555556,
             "#d8576b"
            ],
            [
             0.6666666666666666,
             "#ed7953"
            ],
            [
             0.7777777777777778,
             "#fb9f3a"
            ],
            [
             0.8888888888888888,
             "#fdca26"
            ],
            [
             1,
             "#f0f921"
            ]
           ]
          },
          "colorway": [
           "#636efa",
           "#EF553B",
           "#00cc96",
           "#ab63fa",
           "#FFA15A",
           "#19d3f3",
           "#FF6692",
           "#B6E880",
           "#FF97FF",
           "#FECB52"
          ],
          "font": {
           "color": "#2a3f5f"
          },
          "geo": {
           "bgcolor": "white",
           "lakecolor": "white",
           "landcolor": "#E5ECF6",
           "showlakes": true,
           "showland": true,
           "subunitcolor": "white"
          },
          "hoverlabel": {
           "align": "left"
          },
          "hovermode": "closest",
          "mapbox": {
           "style": "light"
          },
          "paper_bgcolor": "white",
          "plot_bgcolor": "#E5ECF6",
          "polar": {
           "angularaxis": {
            "gridcolor": "white",
            "linecolor": "white",
            "ticks": ""
           },
           "bgcolor": "#E5ECF6",
           "radialaxis": {
            "gridcolor": "white",
            "linecolor": "white",
            "ticks": ""
           }
          },
          "scene": {
           "xaxis": {
            "backgroundcolor": "#E5ECF6",
            "gridcolor": "white",
            "gridwidth": 2,
            "linecolor": "white",
            "showbackground": true,
            "ticks": "",
            "zerolinecolor": "white"
           },
           "yaxis": {
            "backgroundcolor": "#E5ECF6",
            "gridcolor": "white",
            "gridwidth": 2,
            "linecolor": "white",
            "showbackground": true,
            "ticks": "",
            "zerolinecolor": "white"
           },
           "zaxis": {
            "backgroundcolor": "#E5ECF6",
            "gridcolor": "white",
            "gridwidth": 2,
            "linecolor": "white",
            "showbackground": true,
            "ticks": "",
            "zerolinecolor": "white"
           }
          },
          "shapedefaults": {
           "line": {
            "color": "#2a3f5f"
           }
          },
          "ternary": {
           "aaxis": {
            "gridcolor": "white",
            "linecolor": "white",
            "ticks": ""
           },
           "baxis": {
            "gridcolor": "white",
            "linecolor": "white",
            "ticks": ""
           },
           "bgcolor": "#E5ECF6",
           "caxis": {
            "gridcolor": "white",
            "linecolor": "white",
            "ticks": ""
           }
          },
          "title": {
           "x": 0.05
          },
          "xaxis": {
           "automargin": true,
           "gridcolor": "white",
           "linecolor": "white",
           "ticks": "",
           "title": {
            "standoff": 15
           },
           "zerolinecolor": "white",
           "zerolinewidth": 2
          },
          "yaxis": {
           "automargin": true,
           "gridcolor": "white",
           "linecolor": "white",
           "ticks": "",
           "title": {
            "standoff": 15
           },
           "zerolinecolor": "white",
           "zerolinewidth": 2
          }
         }
        },
        "title": {
         "text": "Word Frequency Visualization (without Stop Words)"
        },
        "xaxis": {
         "anchor": "y",
         "autorange": true,
         "domain": [
          0,
          1
         ],
         "range": [
          -0.5,
          211.5
         ],
         "title": {
          "text": "Words"
         },
         "type": "category"
        },
        "yaxis": {
         "anchor": "x",
         "autorange": true,
         "domain": [
          0,
          1
         ],
         "range": [
          0,
          12.631578947368421
         ],
         "title": {
          "text": "Word Frequency"
         },
         "type": "linear"
        }
       }
      },
      "text/html": [
       "<div>                            <div id=\"36a446fc-cacf-4ac6-b727-5f8cffe43f4d\" class=\"plotly-graph-div\" style=\"height:525px; width:100%;\"></div>            <script type=\"text/javascript\">                require([\"plotly\"], function(Plotly) {                    window.PLOTLYENV=window.PLOTLYENV || {};                                    if (document.getElementById(\"36a446fc-cacf-4ac6-b727-5f8cffe43f4d\")) {                    Plotly.newPlot(                        \"36a446fc-cacf-4ac6-b727-5f8cffe43f4d\",                        [{\"alignmentgroup\":\"True\",\"hovertemplate\":\"Words=%{x}\\u003cbr\\u003eWord Frequency=%{y}\\u003cextra\\u003e\\u003c\\u002fextra\\u003e\",\"legendgroup\":\"\",\"marker\":{\"color\":\"#636efa\",\"pattern\":{\"shape\":\"\"}},\"name\":\"\",\"offsetgroup\":\"\",\"orientation\":\"v\",\"showlegend\":false,\"textposition\":\"auto\",\"x\":[\"hello\",\"im\",\"daksh\",\"patel\",\"resultsoriented\",\"business\",\"development\",\"manager\",\"itsoftware\",\"service\",\"industry\",\"expertise\",\"driving\",\"client\",\"acquisition\",\"market\",\"analysis\",\"consistently\",\"surpass\",\"targets\",\"strength\",\"lies\",\"cultivating\",\"robust\",\"relationships\",\"thriving\",\"collaborative\",\"tech\",\"environments\",\"lets\",\"connect\",\"innovative\",\"solutions\",\"growth\",\"results\",\"passionate\",\"leveraging\",\"data\",\"drive\",\"insights\",\"create\",\"meaningful\",\"experienced\",\"diverse\",\"roles\",\"ranging\",\"content\",\"sales\",\"team\",\"management\",\"software\",\"skilled\",\"applying\",\"statistical\",\"techniques\",\"machine\",\"learning\",\"algorithms\",\"extract\",\"valuable\",\"complex\",\"datasets\",\"excited\",\"exponential\",\"field\",\"transformative\",\"potential\",\"ai\",\"skills\",\"predictive\",\"analytics\",\"natural\",\"language\",\"processing\",\"nlp\",\"deep\",\"computer\",\"vision\",\"visualization\",\"cloud\",\"computing\",\"statistics\",\"probability\",\"wrangling\",\"advanced\",\"mathematics\",\"modeling\",\"languages\",\"python\",\"sql\",\"c\",\"libraries\",\"pandas\",\"numpy\",\"scikitlearn\",\"tensorflow\",\"matplotlib\",\"ggplot\",\"seaborn\",\"databases\",\"google\",\"bigquery\",\"tools\",\"jupyterlab\",\"pycharm\",\"microsoft\",\"clarity\",\"tableau\",\"creating\",\"mindful\",\"intuitive\",\"humancentered\",\"experiences\",\"make\",\"life\",\"simple\",\"easy\",\"humans\",\"director\",\"demonstrated\",\"history\",\"working\",\"machinery\",\"engineering\",\"strategy\",\"general\",\"developer\",\"delivering\",\"various\",\"java\",\"frameworks\",\"javascript\",\"structure\",\"versatile\",\"years\",\"experience\",\"designing\",\"developing\",\"managing\",\"applications\",\"work\",\"established\",\"developers\",\"interact\",\"project\",\"managers\",\"designers\",\"helped\",\"debug\",\"resolve\",\"logical\",\"issues\",\"front\",\"end\",\"back\",\"application\",\"guide\",\"toward\",\"desired\",\"output\",\"given\",\"problem\",\"statement\",\"making\",\"code\",\"optimize\",\"analytical\",\"communication\",\"interpersonal\",\"strong\",\"contributor\",\"passion\",\"produce\",\"quality\",\"engineer\",\"merge\",\"science\",\"productive\",\"scalable\",\"delighted\",\"professionals\",\"share\",\"interest\",\"fascinating\",\"world\",\"dynamic\",\"stock\",\"marketi\",\"driven\",\"enthusiast\",\"keen\",\"focus\",\"financial\",\"marketsi\",\"particularly\",\"interested\",\"uncover\",\"patterns\",\"trends\",\"enabling\",\"informed\",\"investment\",\"decisions\",\"addition\",\"technical\",\"possess\",\"understanding\",\"landscape\",\"interplay\",\"economic\",\"factors\",\"dynamics\"],\"xaxis\":\"x\",\"y\":[1,1,1,1,1,7,4,1,1,1,3,1,1,2,1,3,3,1,1,1,1,1,1,1,1,1,1,1,1,1,2,1,3,2,4,2,2,12,1,2,1,1,4,1,1,1,1,1,3,2,3,3,1,2,2,2,3,2,1,1,2,1,1,1,2,1,1,1,3,1,3,1,1,1,1,2,1,2,1,1,1,1,1,1,1,1,1,1,1,1,1,1,1,1,1,1,1,1,1,1,2,1,1,1,1,1,1,1,1,1,1,1,1,2,1,1,1,1,1,2,2,1,1,1,1,1,2,1,1,1,2,2,1,1,1,1,1,2,1,1,2,1,1,1,1,1,1,1,1,1,1,1,1,2,1,1,1,1,1,1,1,1,1,1,1,1,1,1,1,1,1,1,1,1,1,1,4,1,1,1,1,1,1,1,1,1,2,1,1,1,1,1,2,1,1,1,1,1,1,1,1,1,1,1,1,1,1,1,1,1,1,1],\"yaxis\":\"y\",\"type\":\"bar\"}],                        {\"template\":{\"data\":{\"histogram2dcontour\":[{\"type\":\"histogram2dcontour\",\"colorbar\":{\"outlinewidth\":0,\"ticks\":\"\"},\"colorscale\":[[0.0,\"#0d0887\"],[0.1111111111111111,\"#46039f\"],[0.2222222222222222,\"#7201a8\"],[0.3333333333333333,\"#9c179e\"],[0.4444444444444444,\"#bd3786\"],[0.5555555555555556,\"#d8576b\"],[0.6666666666666666,\"#ed7953\"],[0.7777777777777778,\"#fb9f3a\"],[0.8888888888888888,\"#fdca26\"],[1.0,\"#f0f921\"]]}],\"choropleth\":[{\"type\":\"choropleth\",\"colorbar\":{\"outlinewidth\":0,\"ticks\":\"\"}}],\"histogram2d\":[{\"type\":\"histogram2d\",\"colorbar\":{\"outlinewidth\":0,\"ticks\":\"\"},\"colorscale\":[[0.0,\"#0d0887\"],[0.1111111111111111,\"#46039f\"],[0.2222222222222222,\"#7201a8\"],[0.3333333333333333,\"#9c179e\"],[0.4444444444444444,\"#bd3786\"],[0.5555555555555556,\"#d8576b\"],[0.6666666666666666,\"#ed7953\"],[0.7777777777777778,\"#fb9f3a\"],[0.8888888888888888,\"#fdca26\"],[1.0,\"#f0f921\"]]}],\"heatmap\":[{\"type\":\"heatmap\",\"colorbar\":{\"outlinewidth\":0,\"ticks\":\"\"},\"colorscale\":[[0.0,\"#0d0887\"],[0.1111111111111111,\"#46039f\"],[0.2222222222222222,\"#7201a8\"],[0.3333333333333333,\"#9c179e\"],[0.4444444444444444,\"#bd3786\"],[0.5555555555555556,\"#d8576b\"],[0.6666666666666666,\"#ed7953\"],[0.7777777777777778,\"#fb9f3a\"],[0.8888888888888888,\"#fdca26\"],[1.0,\"#f0f921\"]]}],\"heatmapgl\":[{\"type\":\"heatmapgl\",\"colorbar\":{\"outlinewidth\":0,\"ticks\":\"\"},\"colorscale\":[[0.0,\"#0d0887\"],[0.1111111111111111,\"#46039f\"],[0.2222222222222222,\"#7201a8\"],[0.3333333333333333,\"#9c179e\"],[0.4444444444444444,\"#bd3786\"],[0.5555555555555556,\"#d8576b\"],[0.6666666666666666,\"#ed7953\"],[0.7777777777777778,\"#fb9f3a\"],[0.8888888888888888,\"#fdca26\"],[1.0,\"#f0f921\"]]}],\"contourcarpet\":[{\"type\":\"contourcarpet\",\"colorbar\":{\"outlinewidth\":0,\"ticks\":\"\"}}],\"contour\":[{\"type\":\"contour\",\"colorbar\":{\"outlinewidth\":0,\"ticks\":\"\"},\"colorscale\":[[0.0,\"#0d0887\"],[0.1111111111111111,\"#46039f\"],[0.2222222222222222,\"#7201a8\"],[0.3333333333333333,\"#9c179e\"],[0.4444444444444444,\"#bd3786\"],[0.5555555555555556,\"#d8576b\"],[0.6666666666666666,\"#ed7953\"],[0.7777777777777778,\"#fb9f3a\"],[0.8888888888888888,\"#fdca26\"],[1.0,\"#f0f921\"]]}],\"surface\":[{\"type\":\"surface\",\"colorbar\":{\"outlinewidth\":0,\"ticks\":\"\"},\"colorscale\":[[0.0,\"#0d0887\"],[0.1111111111111111,\"#46039f\"],[0.2222222222222222,\"#7201a8\"],[0.3333333333333333,\"#9c179e\"],[0.4444444444444444,\"#bd3786\"],[0.5555555555555556,\"#d8576b\"],[0.6666666666666666,\"#ed7953\"],[0.7777777777777778,\"#fb9f3a\"],[0.8888888888888888,\"#fdca26\"],[1.0,\"#f0f921\"]]}],\"mesh3d\":[{\"type\":\"mesh3d\",\"colorbar\":{\"outlinewidth\":0,\"ticks\":\"\"}}],\"scatter\":[{\"fillpattern\":{\"fillmode\":\"overlay\",\"size\":10,\"solidity\":0.2},\"type\":\"scatter\"}],\"parcoords\":[{\"type\":\"parcoords\",\"line\":{\"colorbar\":{\"outlinewidth\":0,\"ticks\":\"\"}}}],\"scatterpolargl\":[{\"type\":\"scatterpolargl\",\"marker\":{\"colorbar\":{\"outlinewidth\":0,\"ticks\":\"\"}}}],\"bar\":[{\"error_x\":{\"color\":\"#2a3f5f\"},\"error_y\":{\"color\":\"#2a3f5f\"},\"marker\":{\"line\":{\"color\":\"#E5ECF6\",\"width\":0.5},\"pattern\":{\"fillmode\":\"overlay\",\"size\":10,\"solidity\":0.2}},\"type\":\"bar\"}],\"scattergeo\":[{\"type\":\"scattergeo\",\"marker\":{\"colorbar\":{\"outlinewidth\":0,\"ticks\":\"\"}}}],\"scatterpolar\":[{\"type\":\"scatterpolar\",\"marker\":{\"colorbar\":{\"outlinewidth\":0,\"ticks\":\"\"}}}],\"histogram\":[{\"marker\":{\"pattern\":{\"fillmode\":\"overlay\",\"size\":10,\"solidity\":0.2}},\"type\":\"histogram\"}],\"scattergl\":[{\"type\":\"scattergl\",\"marker\":{\"colorbar\":{\"outlinewidth\":0,\"ticks\":\"\"}}}],\"scatter3d\":[{\"type\":\"scatter3d\",\"line\":{\"colorbar\":{\"outlinewidth\":0,\"ticks\":\"\"}},\"marker\":{\"colorbar\":{\"outlinewidth\":0,\"ticks\":\"\"}}}],\"scattermapbox\":[{\"type\":\"scattermapbox\",\"marker\":{\"colorbar\":{\"outlinewidth\":0,\"ticks\":\"\"}}}],\"scatterternary\":[{\"type\":\"scatterternary\",\"marker\":{\"colorbar\":{\"outlinewidth\":0,\"ticks\":\"\"}}}],\"scattercarpet\":[{\"type\":\"scattercarpet\",\"marker\":{\"colorbar\":{\"outlinewidth\":0,\"ticks\":\"\"}}}],\"carpet\":[{\"aaxis\":{\"endlinecolor\":\"#2a3f5f\",\"gridcolor\":\"white\",\"linecolor\":\"white\",\"minorgridcolor\":\"white\",\"startlinecolor\":\"#2a3f5f\"},\"baxis\":{\"endlinecolor\":\"#2a3f5f\",\"gridcolor\":\"white\",\"linecolor\":\"white\",\"minorgridcolor\":\"white\",\"startlinecolor\":\"#2a3f5f\"},\"type\":\"carpet\"}],\"table\":[{\"cells\":{\"fill\":{\"color\":\"#EBF0F8\"},\"line\":{\"color\":\"white\"}},\"header\":{\"fill\":{\"color\":\"#C8D4E3\"},\"line\":{\"color\":\"white\"}},\"type\":\"table\"}],\"barpolar\":[{\"marker\":{\"line\":{\"color\":\"#E5ECF6\",\"width\":0.5},\"pattern\":{\"fillmode\":\"overlay\",\"size\":10,\"solidity\":0.2}},\"type\":\"barpolar\"}],\"pie\":[{\"automargin\":true,\"type\":\"pie\"}]},\"layout\":{\"autotypenumbers\":\"strict\",\"colorway\":[\"#636efa\",\"#EF553B\",\"#00cc96\",\"#ab63fa\",\"#FFA15A\",\"#19d3f3\",\"#FF6692\",\"#B6E880\",\"#FF97FF\",\"#FECB52\"],\"font\":{\"color\":\"#2a3f5f\"},\"hovermode\":\"closest\",\"hoverlabel\":{\"align\":\"left\"},\"paper_bgcolor\":\"white\",\"plot_bgcolor\":\"#E5ECF6\",\"polar\":{\"bgcolor\":\"#E5ECF6\",\"angularaxis\":{\"gridcolor\":\"white\",\"linecolor\":\"white\",\"ticks\":\"\"},\"radialaxis\":{\"gridcolor\":\"white\",\"linecolor\":\"white\",\"ticks\":\"\"}},\"ternary\":{\"bgcolor\":\"#E5ECF6\",\"aaxis\":{\"gridcolor\":\"white\",\"linecolor\":\"white\",\"ticks\":\"\"},\"baxis\":{\"gridcolor\":\"white\",\"linecolor\":\"white\",\"ticks\":\"\"},\"caxis\":{\"gridcolor\":\"white\",\"linecolor\":\"white\",\"ticks\":\"\"}},\"coloraxis\":{\"colorbar\":{\"outlinewidth\":0,\"ticks\":\"\"}},\"colorscale\":{\"sequential\":[[0.0,\"#0d0887\"],[0.1111111111111111,\"#46039f\"],[0.2222222222222222,\"#7201a8\"],[0.3333333333333333,\"#9c179e\"],[0.4444444444444444,\"#bd3786\"],[0.5555555555555556,\"#d8576b\"],[0.6666666666666666,\"#ed7953\"],[0.7777777777777778,\"#fb9f3a\"],[0.8888888888888888,\"#fdca26\"],[1.0,\"#f0f921\"]],\"sequentialminus\":[[0.0,\"#0d0887\"],[0.1111111111111111,\"#46039f\"],[0.2222222222222222,\"#7201a8\"],[0.3333333333333333,\"#9c179e\"],[0.4444444444444444,\"#bd3786\"],[0.5555555555555556,\"#d8576b\"],[0.6666666666666666,\"#ed7953\"],[0.7777777777777778,\"#fb9f3a\"],[0.8888888888888888,\"#fdca26\"],[1.0,\"#f0f921\"]],\"diverging\":[[0,\"#8e0152\"],[0.1,\"#c51b7d\"],[0.2,\"#de77ae\"],[0.3,\"#f1b6da\"],[0.4,\"#fde0ef\"],[0.5,\"#f7f7f7\"],[0.6,\"#e6f5d0\"],[0.7,\"#b8e186\"],[0.8,\"#7fbc41\"],[0.9,\"#4d9221\"],[1,\"#276419\"]]},\"xaxis\":{\"gridcolor\":\"white\",\"linecolor\":\"white\",\"ticks\":\"\",\"title\":{\"standoff\":15},\"zerolinecolor\":\"white\",\"automargin\":true,\"zerolinewidth\":2},\"yaxis\":{\"gridcolor\":\"white\",\"linecolor\":\"white\",\"ticks\":\"\",\"title\":{\"standoff\":15},\"zerolinecolor\":\"white\",\"automargin\":true,\"zerolinewidth\":2},\"scene\":{\"xaxis\":{\"backgroundcolor\":\"#E5ECF6\",\"gridcolor\":\"white\",\"linecolor\":\"white\",\"showbackground\":true,\"ticks\":\"\",\"zerolinecolor\":\"white\",\"gridwidth\":2},\"yaxis\":{\"backgroundcolor\":\"#E5ECF6\",\"gridcolor\":\"white\",\"linecolor\":\"white\",\"showbackground\":true,\"ticks\":\"\",\"zerolinecolor\":\"white\",\"gridwidth\":2},\"zaxis\":{\"backgroundcolor\":\"#E5ECF6\",\"gridcolor\":\"white\",\"linecolor\":\"white\",\"showbackground\":true,\"ticks\":\"\",\"zerolinecolor\":\"white\",\"gridwidth\":2}},\"shapedefaults\":{\"line\":{\"color\":\"#2a3f5f\"}},\"annotationdefaults\":{\"arrowcolor\":\"#2a3f5f\",\"arrowhead\":0,\"arrowwidth\":1},\"geo\":{\"bgcolor\":\"white\",\"landcolor\":\"#E5ECF6\",\"subunitcolor\":\"white\",\"showland\":true,\"showlakes\":true,\"lakecolor\":\"white\"},\"title\":{\"x\":0.05},\"mapbox\":{\"style\":\"light\"}}},\"xaxis\":{\"anchor\":\"y\",\"domain\":[0.0,1.0],\"title\":{\"text\":\"Words\"}},\"yaxis\":{\"anchor\":\"x\",\"domain\":[0.0,1.0],\"title\":{\"text\":\"Word Frequency\"}},\"legend\":{\"tracegroupgap\":0},\"title\":{\"text\":\"Word Frequency Visualization (without Stop Words)\"},\"barmode\":\"relative\"},                        {\"responsive\": true}                    ).then(function(){\n",
       "                            \n",
       "var gd = document.getElementById('36a446fc-cacf-4ac6-b727-5f8cffe43f4d');\n",
       "var x = new MutationObserver(function (mutations, observer) {{\n",
       "        var display = window.getComputedStyle(gd).display;\n",
       "        if (!display || display === 'none') {{\n",
       "            console.log([gd, 'removed!']);\n",
       "            Plotly.purge(gd);\n",
       "            observer.disconnect();\n",
       "        }}\n",
       "}});\n",
       "\n",
       "// Listen for the removal of the full notebook cells\n",
       "var notebookContainer = gd.closest('#notebook-container');\n",
       "if (notebookContainer) {{\n",
       "    x.observe(notebookContainer, {childList: true});\n",
       "}}\n",
       "\n",
       "// Listen for the clearing of the current output cell\n",
       "var outputEl = gd.closest('.output');\n",
       "if (outputEl) {{\n",
       "    x.observe(outputEl, {childList: true});\n",
       "}}\n",
       "\n",
       "                        })                };                });            </script>        </div>"
      ]
     },
     "metadata": {},
     "output_type": "display_data"
    }
   ],
   "source": [
    "import plotly.express as px\n",
    "import nltk\n",
    "from nltk.corpus import stopwords\n",
    "from collections import Counter\n",
    "import pandas as pd\n",
    "\n",
    "#stop words are words like and,or,the, all redundant words\n",
    "nltk.download('stopwords')\n",
    "stop_words = set(stopwords.words('english'))\n",
    "filtered_words = [word for word in all_words if word.lower() not in stop_words]\n",
    "word_freq = Counter(filtered_words)\n",
    "df = pd.DataFrame(word_freq.items(), columns=['Words', 'Frequency'])\n",
    "fig = px.bar(df, x='Words', y='Frequency', labels={'Frequency': 'Word Frequency'}, title='Word Frequency Visualization (without Stop Words)')\n",
    "fig.show()\n"
   ]
  },
  {
   "cell_type": "code",
   "execution_count": 36,
   "id": "57de95c4-5894-4419-b56b-215dc1cdde82",
   "metadata": {},
   "outputs": [],
   "source": [
    "profiledata['Connections'] = profiledata['Connections'].str.replace('followers','').str.replace(',', '')\n"
   ]
  },
  {
   "cell_type": "code",
   "execution_count": 37,
   "id": "ccfeef43-5075-4524-a94b-bc962d7ca8c5",
   "metadata": {},
   "outputs": [],
   "source": [
    "profiledata['Connections'] = profiledata['Connections'].astype(int)"
   ]
  },
  {
   "cell_type": "code",
   "execution_count": 49,
   "id": "ffff09a2-28b4-4fb7-9404-1c2fc2e65852",
   "metadata": {},
   "outputs": [
    {
     "data": {
      "text/html": [
       "<div>\n",
       "<style scoped>\n",
       "    .dataframe tbody tr th:only-of-type {\n",
       "        vertical-align: middle;\n",
       "    }\n",
       "\n",
       "    .dataframe tbody tr th {\n",
       "        vertical-align: top;\n",
       "    }\n",
       "\n",
       "    .dataframe thead th {\n",
       "        text-align: right;\n",
       "    }\n",
       "</style>\n",
       "<table border=\"1\" class=\"dataframe\">\n",
       "  <thead>\n",
       "    <tr style=\"text-align: right;\">\n",
       "      <th></th>\n",
       "      <th>Name</th>\n",
       "      <th>Job Title</th>\n",
       "      <th>Connections</th>\n",
       "    </tr>\n",
       "  </thead>\n",
       "  <tbody>\n",
       "    <tr>\n",
       "      <th>0</th>\n",
       "      <td>Daksh Patel</td>\n",
       "      <td>Business Development Manager</td>\n",
       "      <td>7</td>\n",
       "    </tr>\n",
       "    <tr>\n",
       "      <th>1</th>\n",
       "      <td>Daksh Patel</td>\n",
       "      <td>Student at The Maharaja Sayajirao University o...</td>\n",
       "      <td>125</td>\n",
       "    </tr>\n",
       "    <tr>\n",
       "      <th>2</th>\n",
       "      <td>Daksh Patel</td>\n",
       "      <td>Data Scientist | GDSC Tech Lead</td>\n",
       "      <td>301</td>\n",
       "    </tr>\n",
       "    <tr>\n",
       "      <th>3</th>\n",
       "      <td>Daksh Patel</td>\n",
       "      <td>Digital Product Designer</td>\n",
       "      <td>1814</td>\n",
       "    </tr>\n",
       "    <tr>\n",
       "      <th>4</th>\n",
       "      <td>Daksh Patel</td>\n",
       "      <td>\"Passionate Innovator | Driving Positive Chang...</td>\n",
       "      <td>83</td>\n",
       "    </tr>\n",
       "    <tr>\n",
       "      <th>5</th>\n",
       "      <td>Daksh Patel</td>\n",
       "      <td>JAVA DEVELOPER  ||  CORE JAVA  ||  Well Known ...</td>\n",
       "      <td>175</td>\n",
       "    </tr>\n",
       "    <tr>\n",
       "      <th>6</th>\n",
       "      <td>Daksh Patel</td>\n",
       "      <td>Associate software Engineer at Thomson Reuters</td>\n",
       "      <td>935</td>\n",
       "    </tr>\n",
       "    <tr>\n",
       "      <th>7</th>\n",
       "      <td>Daksh Patel</td>\n",
       "      <td>SDE @Jio ( DSA | JAVA | LLD | REACTJS | NODEJS...</td>\n",
       "      <td>2276</td>\n",
       "    </tr>\n",
       "    <tr>\n",
       "      <th>8</th>\n",
       "      <td>Daksh P.</td>\n",
       "      <td>no results</td>\n",
       "      <td>499</td>\n",
       "    </tr>\n",
       "    <tr>\n",
       "      <th>9</th>\n",
       "      <td>Daksh Patel</td>\n",
       "      <td>Director</td>\n",
       "      <td>226</td>\n",
       "    </tr>\n",
       "  </tbody>\n",
       "</table>\n",
       "</div>"
      ],
      "text/plain": [
       "          Name                                          Job Title  Connections\n",
       "0  Daksh Patel                       Business Development Manager            7\n",
       "1  Daksh Patel  Student at The Maharaja Sayajirao University o...          125\n",
       "2  Daksh Patel                    Data Scientist | GDSC Tech Lead          301\n",
       "3  Daksh Patel                           Digital Product Designer         1814\n",
       "4  Daksh Patel  \"Passionate Innovator | Driving Positive Chang...           83\n",
       "5  Daksh Patel  JAVA DEVELOPER  ||  CORE JAVA  ||  Well Known ...          175\n",
       "6  Daksh Patel     Associate software Engineer at Thomson Reuters          935\n",
       "7  Daksh Patel  SDE @Jio ( DSA | JAVA | LLD | REACTJS | NODEJS...         2276\n",
       "8     Daksh P.                                         no results          499\n",
       "9  Daksh Patel                                           Director          226"
      ]
     },
     "execution_count": 49,
     "metadata": {},
     "output_type": "execute_result"
    }
   ],
   "source": [
    "profiledata[['Name','Job Title','Connections']]"
   ]
  },
  {
   "cell_type": "code",
   "execution_count": 69,
   "id": "3005180c-c0ee-497d-b330-018f560828e8",
   "metadata": {},
   "outputs": [],
   "source": [
    "profiledata['Location'] = profiledata['Location'].str.strip()"
   ]
  },
  {
   "cell_type": "code",
   "execution_count": 70,
   "id": "16362ccc-88e8-484d-ab41-cc2f261abd4c",
   "metadata": {},
   "outputs": [
    {
     "data": {
      "text/html": [
       "<div>\n",
       "<style scoped>\n",
       "    .dataframe tbody tr th:only-of-type {\n",
       "        vertical-align: middle;\n",
       "    }\n",
       "\n",
       "    .dataframe tbody tr th {\n",
       "        vertical-align: top;\n",
       "    }\n",
       "\n",
       "    .dataframe thead th {\n",
       "        text-align: right;\n",
       "    }\n",
       "</style>\n",
       "<table border=\"1\" class=\"dataframe\">\n",
       "  <thead>\n",
       "    <tr style=\"text-align: right;\">\n",
       "      <th></th>\n",
       "      <th>Unnamed: 0</th>\n",
       "      <th>URL</th>\n",
       "      <th>Name</th>\n",
       "      <th>Job Title</th>\n",
       "      <th>Company</th>\n",
       "      <th>Location</th>\n",
       "      <th>About</th>\n",
       "      <th>Connections</th>\n",
       "      <th>processed_about</th>\n",
       "    </tr>\n",
       "  </thead>\n",
       "  <tbody>\n",
       "    <tr>\n",
       "      <th>0</th>\n",
       "      <td>0</td>\n",
       "      <td>https://www.linkedin.com/in/daksh-patel-7b7732...</td>\n",
       "      <td>Daksh Patel</td>\n",
       "      <td>Business Development Manager</td>\n",
       "      <td>Logix Built Solutions Pvt Ltd</td>\n",
       "      <td>Surat, Gujarat, India</td>\n",
       "      <td>Hello, I'm Daksh Patel, a results-oriented Bus...</td>\n",
       "      <td>7</td>\n",
       "      <td>[hello, im, daksh, patel, a, resultsoriented, ...</td>\n",
       "    </tr>\n",
       "    <tr>\n",
       "      <th>1</th>\n",
       "      <td>1</td>\n",
       "      <td>https://www.linkedin.com/in/daksh-patel-501702...</td>\n",
       "      <td>Daksh Patel</td>\n",
       "      <td>Student at The Maharaja Sayajirao University o...</td>\n",
       "      <td>The Maharaja Sayajirao University of Baroda</td>\n",
       "      <td>Gujarat, India</td>\n",
       "      <td>no results</td>\n",
       "      <td>125</td>\n",
       "      <td>[no, results]</td>\n",
       "    </tr>\n",
       "    <tr>\n",
       "      <th>2</th>\n",
       "      <td>2</td>\n",
       "      <td>https://www.linkedin.com/in/daksh-patel-922ba5...</td>\n",
       "      <td>Daksh Patel</td>\n",
       "      <td>Data Scientist | GDSC Tech Lead</td>\n",
       "      <td>Google Developer Student Clubs</td>\n",
       "      <td>Gandhinagar, Gujarat, India</td>\n",
       "      <td>Passionate about leveraging data to drive insi...</td>\n",
       "      <td>301</td>\n",
       "      <td>[passionate, about, leveraging, data, to, driv...</td>\n",
       "    </tr>\n",
       "    <tr>\n",
       "      <th>3</th>\n",
       "      <td>3</td>\n",
       "      <td>https://www.linkedin.com/in/daksh-patel-?miniP...</td>\n",
       "      <td>Daksh Patel</td>\n",
       "      <td>Digital Product Designer</td>\n",
       "      <td>SandCup Design Studio</td>\n",
       "      <td>Ahmedabad, Gujarat, India</td>\n",
       "      <td>Creating mindful and intuitive human-centered ...</td>\n",
       "      <td>1814</td>\n",
       "      <td>[creating, mindful, and, intuitive, humancente...</td>\n",
       "    </tr>\n",
       "    <tr>\n",
       "      <th>4</th>\n",
       "      <td>4</td>\n",
       "      <td>https://www.linkedin.com/in/daksh-patel-aa8699...</td>\n",
       "      <td>Daksh Patel</td>\n",
       "      <td>\"Passionate Innovator | Driving Positive Chang...</td>\n",
       "      <td>Roma Industries</td>\n",
       "      <td>Ahmedabad, Gujarat, India</td>\n",
       "      <td>Experienced Director with a demonstrated histo...</td>\n",
       "      <td>83</td>\n",
       "      <td>[experienced, director, with, a, demonstrated,...</td>\n",
       "    </tr>\n",
       "  </tbody>\n",
       "</table>\n",
       "</div>"
      ],
      "text/plain": [
       "   Unnamed: 0                                                URL         Name  \\\n",
       "0           0  https://www.linkedin.com/in/daksh-patel-7b7732...  Daksh Patel   \n",
       "1           1  https://www.linkedin.com/in/daksh-patel-501702...  Daksh Patel   \n",
       "2           2  https://www.linkedin.com/in/daksh-patel-922ba5...  Daksh Patel   \n",
       "3           3  https://www.linkedin.com/in/daksh-patel-?miniP...  Daksh Patel   \n",
       "4           4  https://www.linkedin.com/in/daksh-patel-aa8699...  Daksh Patel   \n",
       "\n",
       "                                           Job Title  \\\n",
       "0                       Business Development Manager   \n",
       "1  Student at The Maharaja Sayajirao University o...   \n",
       "2                    Data Scientist | GDSC Tech Lead   \n",
       "3                           Digital Product Designer   \n",
       "4  \"Passionate Innovator | Driving Positive Chang...   \n",
       "\n",
       "                                       Company                     Location  \\\n",
       "0                Logix Built Solutions Pvt Ltd        Surat, Gujarat, India   \n",
       "1  The Maharaja Sayajirao University of Baroda               Gujarat, India   \n",
       "2               Google Developer Student Clubs  Gandhinagar, Gujarat, India   \n",
       "3                        SandCup Design Studio    Ahmedabad, Gujarat, India   \n",
       "4                              Roma Industries    Ahmedabad, Gujarat, India   \n",
       "\n",
       "                                               About  Connections  \\\n",
       "0  Hello, I'm Daksh Patel, a results-oriented Bus...            7   \n",
       "1                                         no results          125   \n",
       "2  Passionate about leveraging data to drive insi...          301   \n",
       "3  Creating mindful and intuitive human-centered ...         1814   \n",
       "4  Experienced Director with a demonstrated histo...           83   \n",
       "\n",
       "                                     processed_about  \n",
       "0  [hello, im, daksh, patel, a, resultsoriented, ...  \n",
       "1                                      [no, results]  \n",
       "2  [passionate, about, leveraging, data, to, driv...  \n",
       "3  [creating, mindful, and, intuitive, humancente...  \n",
       "4  [experienced, director, with, a, demonstrated,...  "
      ]
     },
     "execution_count": 70,
     "metadata": {},
     "output_type": "execute_result"
    }
   ],
   "source": [
    "profiledata.head()"
   ]
  },
  {
   "cell_type": "code",
   "execution_count": 71,
   "id": "93b8bca5-4e24-4ab8-a6d5-5a987801beeb",
   "metadata": {},
   "outputs": [
    {
     "data": {
      "text/plain": [
       "0          Surat, Gujarat, India\n",
       "1                 Gujarat, India\n",
       "2    Gandhinagar, Gujarat, India\n",
       "3      Ahmedabad, Gujarat, India\n",
       "4      Ahmedabad, Gujarat, India\n",
       "5    Gandhinagar, Gujarat, India\n",
       "6      Ahmedabad, Gujarat, India\n",
       "7      Ahmedabad, Gujarat, India\n",
       "8                 Gujarat, India\n",
       "9      Ahmedabad, Gujarat, India\n",
       "Name: Location, dtype: object"
      ]
     },
     "execution_count": 71,
     "metadata": {},
     "output_type": "execute_result"
    }
   ],
   "source": [
    "profiledata.Location"
   ]
  },
  {
   "cell_type": "code",
   "execution_count": 79,
   "id": "466e25bd-b34e-487b-ac70-654486b1d15c",
   "metadata": {},
   "outputs": [],
   "source": [
    "import geopandas as gpd\n",
    "import matplotlib.pyplot as plt\n",
    "from shapely.geometry import Point\n",
    "from opencage.geocoder import OpenCageGeocode\n",
    "\n",
    "opencage_api_key = '2cec0d890de64c32b85ec3b2cf943edd'\n",
    "geocoder = OpenCageGeocode(opencage_api_key)\n",
    "\n",
    "locations = profiledata['Location']"
   ]
  },
  {
   "cell_type": "code",
   "execution_count": 80,
   "id": "60729555-c3c5-43db-9392-cfa284ef764f",
   "metadata": {},
   "outputs": [],
   "source": [
    "# Geocode location names to get latitude and longitude\n",
    "coordinates = []\n",
    "for location in locations:\n",
    "    result = geocoder.geocode(location)\n",
    "    if result and 'geometry' in result[0]:\n",
    "        lat, lng = result[0]['geometry']['lat'], result[0]['geometry']['lng']\n",
    "        point = Point(lng, lat)  # Note: Point takes (x, y) which is (lng, lat)\n",
    "        coordinates.append(point)\n",
    "    else:\n",
    "        coordinates.append(None)"
   ]
  },
  {
   "cell_type": "code",
   "execution_count": 86,
   "id": "df5380e0-b0a8-428c-9a87-105c5c62b017",
   "metadata": {},
   "outputs": [
    {
     "name": "stderr",
     "output_type": "stream",
     "text": [
      "C:\\Users\\hp\\AppData\\Local\\Temp\\ipykernel_13344\\134642760.py:5: FutureWarning:\n",
      "\n",
      "The geopandas.dataset module is deprecated and will be removed in GeoPandas 1.0. You can get the original 'naturalearth_lowres' data from https://www.naturalearthdata.com/downloads/110m-cultural-vectors/.\n",
      "\n"
     ]
    },
    {
     "data": {
      "image/png": "[encoded data removed]",
      "text/plain": [
       "<Figure size 1000x600 with 1 Axes>"
      ]
     },
     "metadata": {},
     "output_type": "display_data"
    }
   ],
   "source": [
    "\n",
    "# GeoDataFrame with the coordinates\n",
    "gdf = gpd.GeoDataFrame(geometry=coordinates)\n",
    "\n",
    "# Plot the locations on a world map\n",
    "world = gpd.read_file(gpd.datasets.get_path('naturalearth_lowres'))\n",
    "ax = world.plot(figsize=(10, 6), color='lightgray', edgecolor='black')\n",
    "gdf.plot(ax=ax, color='red', marker='o', markersize=50, alpha=0.7)\n",
    "plt.show()"
   ]
  },
  {
   "cell_type": "code",
   "execution_count": 82,
   "id": "57714edd-57a2-497b-bb5c-61a533b67d23",
   "metadata": {},
   "outputs": [],
   "source": [
    "final_data = profiledata.head()"
   ]
  },
  {
   "cell_type": "code",
   "execution_count": 83,
   "id": "e605d87a-4ad3-4161-880b-effb773e3ead",
   "metadata": {},
   "outputs": [],
   "source": [
    "final_data.to_csv('final_data.csv')"
   ]
  },
  {
   "cell_type": "code",
   "execution_count": null,
   "id": "2927dde2-3875-42c3-be79-2c33435f8ede",
   "metadata": {},
   "outputs": [],
   "source": []
  }
 ],
 "metadata": {
  "kernelspec": {
   "display_name": "Python 3 (ipykernel)",
   "language": "python",
   "name": "python3"
  },
  "language_info": {
   "codemirror_mode": {
    "name": "ipython",
    "version": 3
   },
   "file_extension": ".py",
   "mimetype": "text/x-python",
   "name": "python",
   "nbconvert_exporter": "python",
   "pygments_lexer": "ipython3",
   "version": "3.11.4"
  }
 },
 "nbformat": 4,
 "nbformat_minor": 5
}
