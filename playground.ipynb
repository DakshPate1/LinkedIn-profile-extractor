{
 "cells": [
  {
   "cell_type": "code",
   "execution_count": 1,
   "id": "b0ec2cb4-a8ac-4ea8-8485-11d4a8222e4b",
   "metadata": {},
   "outputs": [],
   "source": [
    "import pandas as pd\n",
    "from parsel import Selector\n",
    "import time\n",
    "import random\n",
    "from time import sleep\n",
    "from selenium import webdriver\n",
    "from selenium.webdriver.common.by import By\n",
    "from selenium.webdriver.support.ui import WebDriverWait\n",
    "from selenium.webdriver.support import expected_conditions as EC\n",
    "from selenium.webdriver.chrome.options import Options\n",
    "from selenium.webdriver.common.keys import Keys\n",
    "from selenium.webdriver.chrome.service import Service\n",
    "\n"
   ]
  },
  {
   "cell_type": "code",
   "execution_count": 51,
   "id": "ac4cf089-d8b2-48be-bc97-11bee200ab56",
   "metadata": {},
   "outputs": [],
   "source": [
    "\n",
    "from credentials import credentials\n",
    "\n",
    "#credentials to sign in\n",
    "email_id = credentials['email_id']\n",
    "password0 = credentials['password']\n"
   ]
  },
  {
   "cell_type": "code",
   "execution_count": 41,
   "id": "afcacb86-c1cb-4254-8483-30b4836809f1",
   "metadata": {},
   "outputs": [],
   "source": [
    "\n",
    "\n",
    "\n",
    "# Initialize Chrome webdriver\n",
    "driver = webdriver.Chrome()\n",
    "\n",
    "def validate_field(field):\n",
    "    if field:\n",
    "        pass\n",
    "    else:\n",
    "        field = \"no results\"\n",
    "    return field\n",
    "# Open LinkedIn website\n",
    "driver.get('https://www.linkedin.com')\n",
    "\n",
    "# Locate and input email/username\n",
    "username = driver.find_element(By.ID, 'session_key')\n",
    "username.send_keys(email_id)\n",
    "\n",
    "# Add a short delay (optional)\n",
    "sleep(0.5)\n",
    "\n",
    "# Locate and input password\n",
    "password = driver.find_element(By.ID, 'session_password')\n",
    "password.send_keys(password0)\n",
    "\n",
    "# Locate and click the sign-in button\n",
    "sign_in_button = driver.find_element(By.XPATH, '//*[@type=\"submit\"]')\n",
    "sign_in_button.click()\n",
    "\n",
    "# Add a longer delay to allow time for the sign-in process\n",
    "sleep(12)\n",
    "\n"
   ]
  },
  {
   "cell_type": "code",
   "execution_count": 20,
   "id": "62e4b8d0-2252-4dd3-b241-efa997bd88b4",
   "metadata": {},
   "outputs": [
    {
     "name": "stdin",
     "output_type": "stream",
     "text": [
      "Enter the name you wish to look up:  daksh patel\n"
     ]
    }
   ],
   "source": [
    "# Task 2: Search for the profile we want to crawl\n",
    "\n",
    "#Locate the search bar element\n",
    "search_field = driver.find_element(By.XPATH, '//*[@id=\"global-nav-typeahead\"]/input')\n",
    "# Task 2.2: Input the search query to the search bar\n",
    "full_name = input(\"Enter the name you wish to look up: \")\n",
    "search_field.send_keys(f'{full_name}')\n",
    "#Search\n",
    "search_field.send_keys(Keys.RETURN)\n"
   ]
  },
  {
   "cell_type": "code",
   "execution_count": 24,
   "id": "c3f22955-3862-42c8-a9bf-4e486c27fab8",
   "metadata": {},
   "outputs": [],
   "source": [
    "# people button on top doesn't do shit, tried \"show all people\" instead\n",
    "#find people button by xpath\n",
    "people = driver.find_element(By.XPATH,'//*[@id=\"search-reusables__filters-bar\"]/ul/li[1]/button')\n",
    "#button click\n",
    "people.click()\n",
    "sleep(2)"
   ]
  },
  {
   "cell_type": "code",
   "execution_count": 29,
   "id": "4be772e4-917c-4884-ad0c-b177442ea4f4",
   "metadata": {},
   "outputs": [
    {
     "name": "stdout",
     "output_type": "stream",
     "text": [
      "done\n"
     ]
    }
   ],
   "source": [
    "#getting URLs of the profiles\n",
    "profiles = driver.find_elements(By.CLASS_NAME, 'app-aware-link')\n",
    "all_profile_URL = []\n",
    "for profile in profiles:\n",
    "    profile_ID = profile.get_attribute('href')\n",
    "    profile_URL = profile_ID\n",
    "    if profile_URL not in all_profile_URL:\n",
    "        all_profile_URL.append(profile_URL)\n",
    "\n",
    "print('done')"
   ]
  },
  {
   "cell_type": "code",
   "execution_count": 34,
   "id": "9f972ed9-e9e6-49d5-b1d5-86aab2942864",
   "metadata": {},
   "outputs": [
    {
     "name": "stdout",
     "output_type": "stream",
     "text": [
      "https://www.linkedin.com/in/daksh-patel-5017021a7?miniProfileUrn=urn%3Ali%3Afs_miniProfile%3AACoAADBWFFEBvWrdonL1D5aOLJUlnaCQd8xbPhA \n",
      "\n",
      "https://www.linkedin.com/in/daksh-patel-922ba51b1?miniProfileUrn=urn%3Ali%3Afs_miniProfile%3AACoAADF55OoBYgIe09QBILOhihsRSRVtnsuyk6o \n",
      "\n",
      "https://www.linkedin.com/in/daksh-patel-?miniProfileUrn=urn%3Ali%3Afs_miniProfile%3AACoAADmqT8ABEl3T4bdsCfjPHZ-Ct9wwBPoOe2k \n",
      "\n",
      "https://www.linkedin.com/in/daksh-patel-aa869997?miniProfileUrn=urn%3Ali%3Afs_miniProfile%3AACoAABSRk-ABcX9h9P3JK4_1kRi-ioQlTFoiRUo \n",
      "\n",
      "https://www.linkedin.com/in/daksh-patel-30581b249?miniProfileUrn=urn%3Ali%3Afs_miniProfile%3AACoAAD2GDPUB3fbgVhI-7-p4n3wJS2XA5sL4bdQ \n",
      "\n",
      "https://www.linkedin.com/in/daksh-patel-920785160?miniProfileUrn=urn%3Ali%3Afs_miniProfile%3AACoAACaOwugBMYnfcRTaQzO7GeEdBlanU8XFAOg \n",
      "\n",
      "https://www.linkedin.com/in/-daksh-patel?miniProfileUrn=urn%3Ali%3Afs_miniProfile%3AACoAACp7bOQBHKx8YWMidSiL0xnxci-OAYcQY6o \n",
      "\n",
      "https://www.linkedin.com/in/daksh-p-0361b3121?miniProfileUrn=urn%3Ali%3Afs_miniProfile%3AACoAAB4ba2oBFk7kLBU9rc-mxvSgxkyWklfqphk \n",
      "\n",
      "https://www.linkedin.com/in/daksh-patel-811a9b76?miniProfileUrn=urn%3Ali%3Afs_miniProfile%3AACoAABAtv80Bs3S_JFgxl_OvTqD7RHjY3UsIpuw \n",
      "\n",
      "https://www.linkedin.com/in/daksh-patel-3a7ba9215?miniProfileUrn=urn%3Ali%3Afs_miniProfile%3AACoAADZ1vO8B_W8Kw_rptnopSU5v5aBuE6tzp-g \n",
      "\n"
     ]
    }
   ],
   "source": [
    "for items in all_profile_URL:\n",
    "    if len(items)>40:\n",
    "        print(f'{items} \\n')"
   ]
  },
  {
   "cell_type": "code",
   "execution_count": null,
   "id": "a534dfb6-9bea-4106-a3aa-5d966f793c9d",
   "metadata": {},
   "outputs": [],
   "source": []
  }
 ],
 "metadata": {
  "kernelspec": {
   "display_name": "Python 3 (ipykernel)",
   "language": "python",
   "name": "python3"
  },
  "language_info": {
   "codemirror_mode": {
    "name": "ipython",
    "version": 3
   },
   "file_extension": ".py",
   "mimetype": "text/x-python",
   "name": "python",
   "nbconvert_exporter": "python",
   "pygments_lexer": "ipython3",
   "version": "3.11.4"
  }
 },
 "nbformat": 4,
 "nbformat_minor": 5
}
