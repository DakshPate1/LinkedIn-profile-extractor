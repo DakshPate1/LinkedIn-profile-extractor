{
 "cells": [
  {
   "cell_type": "code",
   "execution_count": 56,
   "id": "b0ec2cb4-a8ac-4ea8-8485-11d4a8222e4b",
   "metadata": {},
   "outputs": [],
   "source": [
    "import pandas as pd\n",
    "from parsel import Selector\n",
    "import time\n",
    "import random\n",
    "from time import sleep\n",
    "from selenium import webdriver\n",
    "from selenium.webdriver.common.by import By\n",
    "from selenium.webdriver.support.ui import WebDriverWait\n",
    "from selenium.webdriver.support import expected_conditions as EC\n",
    "from selenium.webdriver.chrome.options import Options\n",
    "from selenium.webdriver.common.keys import Keys\n",
    "from selenium.webdriver.chrome.service import Service\n",
    "\n"
   ]
  },
  {
   "cell_type": "code",
   "execution_count": 57,
   "id": "ac4cf089-d8b2-48be-bc97-11bee200ab56",
   "metadata": {},
   "outputs": [],
   "source": [
    "\n",
    "from credentials import credentials\n",
    "\n"
   ]
  },
  {
   "cell_type": "code",
   "execution_count": 58,
   "id": "2ab73157-58e1-4856-a1b6-f317eed286fd",
   "metadata": {},
   "outputs": [],
   "source": [
    "#credentials to sign in\n",
    "email_id = credentials['email_id']\n",
    "password0 = credentials['password']\n"
   ]
  },
  {
   "cell_type": "code",
   "execution_count": 59,
   "id": "afcacb86-c1cb-4254-8483-30b4836809f1",
   "metadata": {},
   "outputs": [],
   "source": [
    "\n",
    "\n",
    "\n",
    "# Initialize Chrome webdriver\n",
    "driver = webdriver.Chrome()\n",
    "\n",
    "def validate_field(field):\n",
    "    if field:\n",
    "        pass\n",
    "    else:\n",
    "        field = \"no results\"\n",
    "    return field\n",
    "# Open LinkedIn website\n",
    "driver.get('https://www.linkedin.com')\n",
    "\n",
    "# Locate and input email/username\n",
    "username = driver.find_element(By.ID, 'session_key')\n",
    "username.send_keys(email_id)\n",
    "\n",
    "# Add a short delay (optional)\n",
    "sleep(0.5)\n",
    "\n",
    "# Locate and input password\n",
    "password = driver.find_element(By.ID, 'session_password')\n",
    "password.send_keys(password0)\n",
    "\n",
    "# Locate and click the sign-in button\n",
    "sign_in_button = driver.find_element(By.XPATH, '//*[@type=\"submit\"]')\n",
    "sign_in_button.click()\n",
    "\n",
    "# Add a longer delay to allow time for the sign-in process\n",
    "sleep(12)\n",
    "\n"
   ]
  },
  {
   "cell_type": "code",
   "execution_count": 60,
   "id": "62e4b8d0-2252-4dd3-b241-efa997bd88b4",
   "metadata": {},
   "outputs": [
    {
     "name": "stdin",
     "output_type": "stream",
     "text": [
      "Enter the name you wish to look up:  Daksh Patel\n"
     ]
    }
   ],
   "source": [
    "# Task 2: Search for the profile we want to crawl\n",
    "\n",
    "#Locate the search bar element\n",
    "search_field = driver.find_element(By.XPATH, '//*[@id=\"global-nav-typeahead\"]/input')\n",
    "# Task 2.2: Input the search query to the search bar\n",
    "full_name = input(\"Enter the name you wish to look up: \")\n",
    "search_field.send_keys(f'{full_name}')\n",
    "#Search\n",
    "search_field.send_keys(Keys.RETURN)\n"
   ]
  },
  {
   "cell_type": "code",
   "execution_count": 62,
   "id": "c3f22955-3862-42c8-a9bf-4e486c27fab8",
   "metadata": {},
   "outputs": [],
   "source": [
    "#find people button by xpath\n",
    "people = driver.find_element(By.XPATH,'//*[@id=\"search-reusables__filters-bar\"]/ul/li[1]/button')\n",
    "#button click\n",
    "people.click()\n",
    "sleep(2)"
   ]
  },
  {
   "cell_type": "code",
   "execution_count": 63,
   "id": "4be772e4-917c-4884-ad0c-b177442ea4f4",
   "metadata": {},
   "outputs": [
    {
     "name": "stdout",
     "output_type": "stream",
     "text": [
      "done\n"
     ]
    }
   ],
   "source": [
    "#getting URLs of the profiles\n",
    "profiles = driver.find_elements(By.CLASS_NAME, 'app-aware-link')\n",
    "all_URL = []\n",
    "for profile in profiles:\n",
    "    profile_ID = profile.get_attribute('href')\n",
    "    profile_URL = profile_ID\n",
    "    if profile_URL not in all_URL:\n",
    "        all_URL.append(profile_URL)\n",
    "\n",
    "print('done')"
   ]
  },
  {
   "cell_type": "code",
   "execution_count": 64,
   "id": "9f972ed9-e9e6-49d5-b1d5-86aab2942864",
   "metadata": {},
   "outputs": [],
   "source": [
    "main_profile_URL = []\n",
    "for items in all_URL:\n",
    "    if len(items)>40:\n",
    "        main_profile_URL.append(items)"
   ]
  },
  {
   "cell_type": "code",
   "execution_count": null,
   "id": "a534dfb6-9bea-4106-a3aa-5d966f793c9d",
   "metadata": {},
   "outputs": [
    {
     "name": "stdout",
     "output_type": "stream",
     "text": [
      "\n",
      "\n",
      "Name: Daksh Patel\n",
      "Job Title: Business Development Manager\n",
      "Company: None\n",
      "Location: \n",
      "          Surat, Gujarat, India\n",
      "        \n",
      "\n",
      "\n"
     ]
    }
   ],
   "source": [
    "profiledata =[]\n",
    "for x in main_profile_URL:\n",
    "    driver.get(x)\n",
    "    time.sleep(random.uniform(2.5,4.9))\n",
    "    sel = Selector(text=driver.page_source)\n",
    "    name = sel.xpath('//*[starts-with(@class,\"text-heading-xlarge inline t-24 v-align-middle break-words\")]/text()').extract_first()\n",
    "    if name:\n",
    "        name = name.strip()\n",
    "    job_title = sel.xpath('//*[starts-with(@class,\"text-body-medium break-words\")]/text()').extract_first()\n",
    "\n",
    "    if job_title:\n",
    "        job_title = job_title.strip()\n",
    "\n",
    "    try:\n",
    "        company = driver.find_element(By.XPATH,'//ul[@class=\"pv-text-details_right-panel\"]/text()').text\n",
    "    except:\n",
    "        company = 'None'\n",
    "    if company:\n",
    "        company = company.strip()\n",
    "    location = sel.xpath('//*[starts-with(@class, \"text-body-small inline t-black--light break-words\")]/text()').extract_first()\n",
    "    if location:\n",
    "        location.strip()\n",
    "\n",
    "    name = validate_field(name)\n",
    "    job_title = validate_field(job_title)\n",
    "    company = validate_field(company)\n",
    "   \n",
    "    location = validate_field(location)\n",
    "   \n",
    "\n",
    "    print('\\n')\n",
    "    print('Name: ' + name)\n",
    "    print('Job Title: ' + job_title)\n",
    "    print('Company: ' + company)\n",
    "    print('Location: ' + location)\n",
    "    print('\\n')\n",
    "\n",
    "    data = {\n",
    "        'Name': name,\n",
    "        'Job Title': job_title,\n",
    "        'Company': company,\n",
    "        'Location':location,\n",
    "        \n",
    "    }\n",
    "        \n",
    "    profiledata.append(data)\n",
    "pd.DataFrame(profiledata)\n"
   ]
  },
  {
   "cell_type": "code",
   "execution_count": null,
   "id": "27411055-16b3-4ce6-b877-a1730411885a",
   "metadata": {},
   "outputs": [],
   "source": []
  }
 ],
 "metadata": {
  "kernelspec": {
   "display_name": "Python 3 (ipykernel)",
   "language": "python",
   "name": "python3"
  },
  "language_info": {
   "codemirror_mode": {
    "name": "ipython",
    "version": 3
   },
   "file_extension": ".py",
   "mimetype": "text/x-python",
   "name": "python",
   "nbconvert_exporter": "python",
   "pygments_lexer": "ipython3",
   "version": "3.11.4"
  }
 },
 "nbformat": 4,
 "nbformat_minor": 5
}
